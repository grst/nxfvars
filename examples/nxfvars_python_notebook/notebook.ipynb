{
 "cells": [
  {
   "cell_type": "code",
   "execution_count": 1,
   "id": "soviet-resolution",
   "metadata": {},
   "outputs": [],
   "source": [
    "from nxfvars import nxfvars"
   ]
  },
  {
   "cell_type": "code",
   "execution_count": 2,
   "id": "reverse-orbit",
   "metadata": {},
   "outputs": [],
   "source": [
    "input_file = nxfvars.get(\"input_file\", \"../data/hello.txt\")\n",
    "input_value = nxfvars.get(\"input_value\", \"default value for interactive execution\")\n",
    "global_param = nxfvars[\"params\"].get(\"global_param\", \"default value for interactive execution\")\n",
    "cpus = nxfvars[\"task\"].get(\"cpus\", \"1\")"
   ]
  },
  {
   "cell_type": "code",
   "execution_count": 3,
   "id": "greatest-forge",
   "metadata": {},
   "outputs": [
    {
     "name": "stdout",
     "output_type": "stream",
     "text": [
      "input_value: default value for interactive execution\n",
      "input_file: ../data/hello.txt\n",
      "params.global_param: default value for interactive execution\n",
      "task.cpus: 1\n",
      "The content of ../data/hello.txt is: Hello World!\n"
     ]
    }
   ],
   "source": [
    "print(\"input_value:\", input_value)\n",
    "print(\"input_file:\", input_file)\n",
    "print(\"params.global_param:\", global_param)\n",
    "print(\"task.cpus:\", cpus)\n",
    "with open(input_file) as f:\n",
    "    print(f\"The content of {input_file} is:\", \"\".join(f.readlines()))"
   ]
  }
 ],
 "metadata": {
  "kernelspec": {
   "display_name": "Python [conda env:nxfvars]",
   "language": "python",
   "name": "conda-env-nxfvars-py"
  },
  "language_info": {
   "codemirror_mode": {
    "name": "ipython",
    "version": 3
   },
   "file_extension": ".py",
   "mimetype": "text/x-python",
   "name": "python",
   "nbconvert_exporter": "python",
   "pygments_lexer": "ipython3",
   "version": "3.8.8"
  }
 },
 "nbformat": 4,
 "nbformat_minor": 5
}
